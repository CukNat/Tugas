{
 "cells": [
  {
   "cell_type": "markdown",
   "id": "2616dc3c-6b41-4719-9e8d-a8ab9714c3e2",
   "metadata": {
    "tags": []
   },
   "source": [
    "# TUGAS 1 PEMROGRAMAN BERBASIS FUNGSI\n",
    "Natanael Oktavianus Partahan Sihombing\\\n",
    "121450107\\\n",
    "RC"
   ]
  },
  {
   "cell_type": "markdown",
   "id": "a98d4a3c-a0ae-48c0-9fff-d95472fb6ce2",
   "metadata": {},
   "source": [
    "## 1. Jelaskan menggunakan tabel mengenai kelebihan dan kekurangan paradigma procedural dibandingkan dengan object oriented (minimal 3) !"
   ]
  },
  {
   "cell_type": "markdown",
   "id": "a9cf7cf3-6ecb-4126-9344-5b80d1eee2fa",
   "metadata": {},
   "source": [
    "### kelebihan Procedural dibandingkan Object Oriented\n",
    "|Procedural|Object Oriented|\n",
    "|-|-|\n",
    "|kurang baik dalam memodelkan objek karena lebih fokus ke prosedur|Lebih baik dalam memodelkan real-world objects dan mempermudah proses reusability kode|\n",
    "|kurang aman dibandingkan object oriented|lebih aman dibandingkan procedural|\n",
    "|kurang baik dalam pengembangan aplikasi berbasis tim|Lebih baik dalam pengembangan aplikasi berbasis tim.|\n",
    "\n",
    "### Kelebihan Procedural dibandingkan Object Oriented\n",
    "|Procedural|Object Oriented|\n",
    "|-|-|\n",
    "|Lebih mudah dipahami dan dipelajari|kompleks untuk pemula karena bersifat modular|\n",
    "|Lebih fleksibel dan bisa digunakan untuk berbagai macam aplikasi|Lebih memfokuskan pada objek,sehingga lebih cocok untuk aplikasi yang memerlukan interaksi antar objek|\n",
    "|Lebih cepat dalam melakukan proses pemrograman|membutuhkan waktu lebih dalam proses pemrograman|"
   ]
  },
  {
   "cell_type": "markdown",
   "id": "3b4699c0-1458-4f5f-af56-d46575916bcb",
   "metadata": {},
   "source": [
    "## 2. Jelaskan menggunakan tabel mengenai kelebihan dan kekurangan paradigma object oriented dibandingkan dengan functional (minimal 3) !"
   ]
  },
  {
   "cell_type": "markdown",
   "id": "f27be02e-6270-424b-b8a6-fce3182a1b6d",
   "metadata": {},
   "source": [
    "### kelebihan paradigma object oriented dibandingkan functional\n",
    "|Object Oriented|functional|\n",
    "|-|-|\n",
    "|bisa dimodifikasi dari luar objek|tidak bisa dimodifikasi harus tetap (immutable)|\n",
    "|meniru real-world object sehingga lebih baik dalam pengolahan data dibanding fp|kurang baik dalam pengolahan data dibanding oop lebih kearah mencari solusi|\n",
    "|jauh lebih baik dalam proyek besar dibanding fp|kurang baik dalam proyek besar dibanding oop|\n",
    "### kekurangan paradigma object oriented dibandingkan functional\n",
    "|Object Oriented|functional|\n",
    "|-|-|\n",
    "|lebih banyak menghabiskan memori dibandingkan fp|lebih sedikit menhabiskan memori dibandingkan oop|\n",
    "|lebih lama waktu dibutuhkan dalam membuat program dibanding fp|waktu yang dibutuhkan lebih sedikit dari oop|\n",
    "|proses debug lebih lama dibanding fp|membantu lebih cepat proses debug karena ada fungsi galat|"
   ]
  },
  {
   "cell_type": "markdown",
   "id": "3590e1fa-3d3c-4f6b-b8ba-d2fb61f313bf",
   "metadata": {},
   "source": [
    "## 3. Jelaskan menggunakan tabel mengenai kelebihan dan kekurangan paradigma procedural dibandingkan dengan functional (minimal 3) !"
   ]
  },
  {
   "cell_type": "markdown",
   "id": "95a868ec-395d-4f5f-a433-39e69ee7d53d",
   "metadata": {},
   "source": [
    "### kelebihan paradigma procedural dibandingkan functional\n",
    "|Procedural|functional|\n",
    "|-|-|\n",
    "|lebih mudah untuk dipelajari|butuh effort lebih untuk mempelajarinya|\n",
    "|lebih mudah memelihara kode karena dilakukan step by step|pemeliharaan sulit jika ada proyek lebih besar|\n",
    "|kode pemrograman lebih sederhana dibandingkan functional|kode pemrograman lebih kompleks dibanding functional|\n",
    "\n",
    "### kekurangan paradigma procedural dibandingkan functional\n",
    "|Procedural|functional|\n",
    "|-|-|\n",
    "|tidak bisa reusable karena bukan fungsi|bisa reusable karena berupa fungsi|\n",
    "|sulit mengubah masalah kompleks menjadi sederhana|Mengubah masalah kompleks menjadi potongankecil yang lebih sederhana untuk diselesaikan.|\n",
    "|skalabilitas kurang baik |skalabilitas yang lebih baik memungkinkan proses paralel|"
   ]
  },
  {
   "cell_type": "markdown",
   "id": "aa848158-83a4-475b-b3b7-b9b7f182b61e",
   "metadata": {},
   "source": [
    "## 4. Apa yang dimaksud dengan pure functional programming language?"
   ]
  },
  {
   "cell_type": "markdown",
   "id": "02efffea-d7a4-4873-991f-c661efb8fcb9",
   "metadata": {},
   "source": [
    "Pure Functional Programming Language adalah bahasa pemrograman yang hanya menggunakan fungsi-fungsi matematis dan tidak mengandung variabel mutable (dapat berubah) atau efek samping. "
   ]
  },
  {
   "cell_type": "markdown",
   "id": "b81d7b7e-8ded-40e8-9325-38b5fc91e985",
   "metadata": {},
   "source": [
    "## 5. Dari bahasa pemrograman FP di slide sebelumnya ( slide 14 ) , manakah yang termasuk pure functional programming language?"
   ]
  },
  {
   "cell_type": "markdown",
   "id": "5cf496a8-69b2-4043-8e9a-108d194b5a12",
   "metadata": {},
   "source": [
    "Lisp, Standard ML and Haskell "
   ]
  },
  {
   "cell_type": "markdown",
   "id": "1abe65be-3224-4c0c-8dab-5ce1c1f20d13",
   "metadata": {},
   "source": [
    "## 6. Membuat program Simple Password encryption, dengan ketentuan\n",
    "### 1. Input password bertipe string dengan batasan panjang password 100 karakter\n",
    "### 2. Setiap karakter dari string tersebut diubah menjadi ASCII value\n",
    "### 3. Kemudian setiap ASCII value tersebut dikembangkan menjadi 3 value dengan dilakukan operasi berikut: \n",
    "1. Value pertama dibagi dengan integer 26 kemudian dibulatkan dan dijumlahkan dengan 80 kemudian diubah kembali menjadi karakter\n",
    "2. Value kedua dihitung sisa bagi dengan 26 kemudian\n",
    "dijumlahkan dengan 80 kemudian diubah kembali menjadi\n",
    "karakter\n",
    "3. Value ketiga adalah karakter ‘+’ jika value pertama lebih\n",
    "besar dari value kedua, atau value ketiga adalah karakter ‘-’\n",
    "jika value pertama tidak lebih besar dari value kedua\n",
    "4. Deretkan value pertama, kedua dan ketiga untuk setiap karakter\n",
    "dalam password tersebut sehingga didapatkan password dalam\n",
    "bentuk baru\n"
   ]
  },
  {
   "cell_type": "code",
   "execution_count": 13,
   "id": "c9fad2de-2d14-4a31-bf35-8fda0fdfd88d",
   "metadata": {},
   "outputs": [
    {
     "name": "stdin",
     "output_type": "stream",
     "text": [
      "Enter password:  anakanakcerdas2020\n"
     ]
    },
    {
     "name": "stdout",
     "output_type": "stream",
     "text": [
      "Encrypted password: Sc-TV-Sc-TS+Sc-TV-Sc-TS+Se-Sg-TZ-Sf-Sc-T[-Qh-Qf-Qh-Qf-\n"
     ]
    }
   ],
   "source": [
    "def encrypt(password):\n",
    "    encrypted_password = \"\"\n",
    "    for char in password:\n",
    "        ascii_value = ord(char)\n",
    "        first_value = (ascii_value // 26) + 80\n",
    "        second_value = (ascii_value % 26) + 80\n",
    "        if first_value > second_value:\n",
    "            third_value = \"+\"\n",
    "        else:\n",
    "            third_value = \"-\"\n",
    "        encrypted_password += chr(first_value) + chr(second_value) + third_value\n",
    "    return encrypted_password\n",
    "\n",
    "password = input(\"Enter password: \")\n",
    "\n",
    "if len(password) > 100:\n",
    "    print(\"Password too long.\")\n",
    "else:\n",
    "    encrypted_password = encrypt(password)\n",
    "    print(\"Encrypted password:\", encrypted_password)"
   ]
  },
  {
   "cell_type": "code",
   "execution_count": 14,
   "id": "07849973-cf46-4e14-b413-1defe0bd46e8",
   "metadata": {},
   "outputs": [
    {
     "name": "stdin",
     "output_type": "stream",
     "text": [
      "Enter the encryption password:  Sc-TV-Sc-TS+Sc-TV-Sc-TS+Se-Sg-TZ-Sf-Sc-T[-Qh-Qf-Qh-Qf-\n"
     ]
    },
    {
     "name": "stdout",
     "output_type": "stream",
     "text": [
      "The password is:  anakanakcerdas2020\n"
     ]
    }
   ],
   "source": [
    "def dekripsi(password):\n",
    "  split_ps = [(password[k:k+3]) for k in range(0, len(password), 3)]\n",
    "  dekri = ''.join(chr(((ord(list(z)[0])-80)*26)+(ord(list(z)[1])-80)) for z in split_ps)\n",
    "  print(\"The password is: \", dekri)\n",
    "\n",
    "enk = input(\"Enter the encryption password: \")\n",
    "dekripsi(enk)\n"
   ]
  }
 ],
 "metadata": {
  "kernelspec": {
   "display_name": "Python 3 (ipykernel)",
   "language": "python",
   "name": "python3"
  },
  "language_info": {
   "codemirror_mode": {
    "name": "ipython",
    "version": 3
   },
   "file_extension": ".py",
   "mimetype": "text/x-python",
   "name": "python",
   "nbconvert_exporter": "python",
   "pygments_lexer": "ipython3",
   "version": "3.10.7"
  }
 },
 "nbformat": 4,
 "nbformat_minor": 5
}
